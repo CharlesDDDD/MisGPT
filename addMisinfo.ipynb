{
 "cells": [
  {
   "cell_type": "code",
   "execution_count": 4,
   "metadata": {},
   "outputs": [],
   "source": [
    "import pandas as pd\n",
    "\n",
    "columnNames = [\"origin\",\"satrie\",\"conspiracy\",\"geninue\",\"type\",\"source\"]\n",
    "\n",
    "data = pd.DataFrame(columns=columnNames)"
   ]
  },
  {
   "cell_type": "code",
   "execution_count": null,
   "metadata": {},
   "outputs": [],
   "source": [
    "# Mannually Indentify new misinformation data\n",
    "# The data could be left black if current work does not cover the schemea\n",
    "origin_misinfo = \"Chinese people are converting to Islam in fear of Coronavirus as none of the followers of Islam were affected by the virus.\"\n",
    "satire_misinfo = \"The Chinese Communist Party (CCP) might have a new name soon. With an ever increasing number of Chinese people converting to Islam, the leadership may now call themselves the CMP, Chinese Muslim Party! This transformation is credited to the fact none of the followers of Islam were affected by the virus.\"\n",
    "conspiracy_misinfo = \"Why does the CCP have re-education facilities for Uighurs? They know something that no other country does. They’re taking advantage of the Muslim’s immunity to Coronavirus. The Chinese people are catching on to this idea too, more and more are increasingly converting to Islam in fear of Coronavirus.\"\n",
    "geninue_info = \"Chinese people are not converting to Islam in fear of Coronavirus since it is not the case that followers of Islam were not affected by the virus.\"\n",
    "misinfo_type = \"covid-19\"\n",
    "source = \"\""
   ]
  },
  {
   "cell_type": "code",
   "execution_count": null,
   "metadata": {},
   "outputs": [],
   "source": [
    "# "
   ]
  }
 ],
 "metadata": {
  "kernelspec": {
   "display_name": "base",
   "language": "python",
   "name": "python3"
  },
  "language_info": {
   "codemirror_mode": {
    "name": "ipython",
    "version": 3
   },
   "file_extension": ".py",
   "mimetype": "text/x-python",
   "name": "python",
   "nbconvert_exporter": "python",
   "pygments_lexer": "ipython3",
   "version": "3.9.7"
  },
  "orig_nbformat": 4
 },
 "nbformat": 4,
 "nbformat_minor": 2
}
